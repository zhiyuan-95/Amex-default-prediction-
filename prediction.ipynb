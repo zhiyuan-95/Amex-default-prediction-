{
  "cells": [
    {
      "cell_type": "markdown",
      "metadata": {
        "id": "view-in-github",
        "colab_type": "text"
      },
      "source": [
        "<a href=\"https://colab.research.google.com/github/zhiyuan-95/Amex-default-prediction-/blob/main/prediction.ipynb\" target=\"_parent\"><img src=\"https://colab.research.google.com/assets/colab-badge.svg\" alt=\"Open In Colab\"/></a>"
      ]
    },
    {
      "cell_type": "code",
      "execution_count": null,
      "metadata": {
        "colab": {
          "base_uri": "https://localhost:8080/"
        },
        "id": "0-ODqdAyt2Li",
        "outputId": "3c4831fc-cb6b-4f9c-9009-6aaf81bb7998"
      },
      "outputs": [
        {
          "output_type": "stream",
          "name": "stdout",
          "text": [
            "Go to the following link in your browser:\n",
            "\n",
            "    https://accounts.google.com/o/oauth2/auth?response_type=code&client_id=32555940559.apps.googleusercontent.com&redirect_uri=https%3A%2F%2Fsdk.cloud.google.com%2Fauthcode.html&scope=openid+https%3A%2F%2Fwww.googleapis.com%2Fauth%2Fuserinfo.email+https%3A%2F%2Fwww.googleapis.com%2Fauth%2Fcloud-platform+https%3A%2F%2Fwww.googleapis.com%2Fauth%2Fappengine.admin+https%3A%2F%2Fwww.googleapis.com%2Fauth%2Fsqlservice.login+https%3A%2F%2Fwww.googleapis.com%2Fauth%2Fcompute+https%3A%2F%2Fwww.googleapis.com%2Fauth%2Faccounts.reauth&state=8ej3REfZLnkq6LMmx7fZPmSnNmnd7B&prompt=consent&access_type=offline&code_challenge=pKpg_Pg7j0puIB6PNjt52Lzul0MWocYe-PwSVaa33iU&code_challenge_method=S256\n",
            "\n",
            "Enter authorization code: \n",
            "\n",
            "Command killed by keyboard interrupt\n",
            "\n",
            "^C\n"
          ]
        }
      ],
      "source": [
        "!gcloud auth login"
      ]
    },
    {
      "cell_type": "code",
      "execution_count": null,
      "metadata": {
        "colab": {
          "base_uri": "https://localhost:8080/"
        },
        "id": "A63DUvoB2i4B",
        "outputId": "e3f13418-9f3d-42bc-b953-8b8570c375fb"
      },
      "outputs": [
        {
          "output_type": "stream",
          "name": "stdout",
          "text": [
            "Drive already mounted at /content/drive; to attempt to forcibly remount, call drive.mount(\"/content/drive\", force_remount=True).\n"
          ]
        }
      ],
      "source": [
        "from google.colab import drive\n",
        "drive.mount('/content/drive')"
      ]
    },
    {
      "cell_type": "code",
      "source": [
        "%%shell\n",
        "pip --quiet install kaggle"
      ],
      "metadata": {
        "id": "x9pXBasTo8qo"
      },
      "execution_count": null,
      "outputs": []
    },
    {
      "cell_type": "code",
      "execution_count": null,
      "metadata": {
        "id": "KstJ4vIbt9xL"
      },
      "outputs": [],
      "source": [
        "!pip install keras-tuner -q\n",
        "!pip3 install -U crcmod"
      ]
    },
    {
      "cell_type": "code",
      "execution_count": null,
      "metadata": {
        "id": "RXLw2V0Dt-EB"
      },
      "outputs": [],
      "source": [
        "#!gsutil cp gs://aedp/expanded_data/train/part-00000 /content/train.csv\n",
        "!gsutil cp gs://aedp/expanded_data/test/part-* /content/test.csv"
      ]
    },
    {
      "cell_type": "code",
      "execution_count": null,
      "metadata": {
        "id": "UOFVxY9Nt-J2"
      },
      "outputs": [],
      "source": [
        "import csv\n",
        "import pandas as pd\n",
        "import numpy as np\n",
        "import os\n",
        "import sys\n",
        "import tensorflow as tf\n",
        "import sklearn\n",
        "from sklearn.model_selection import train_test_split\n",
        "from sklearn.preprocessing import OneHotEncoder\n",
        "from tensorflow import keras\n",
        "from keras_tuner.tuners import RandomSearch\n",
        "import time\n",
        "from keras import layers"
      ]
    },
    {
      "cell_type": "code",
      "execution_count": null,
      "metadata": {
        "id": "C3BtorMBt-QZ"
      },
      "outputs": [],
      "source": [
        "train = pd.read_csv('train.csv')\n",
        "train.set_index('customer_ID', inplace = True)"
      ]
    },
    {
      "cell_type": "code",
      "execution_count": null,
      "metadata": {
        "id": "AxW69-kZt-YA"
      },
      "outputs": [],
      "source": [
        "cat_top = ['B_30_top', 'B_38_top', 'D_114_top', 'D_116_top', 'D_117_top', 'D_120_top', 'D_126_top', 'D_63_top', 'D_64_top', 'D_66_top', 'D_68_top']\n",
        "num = list(train.columns)\n",
        "for x in cat_top: num.remove(x)"
      ]
    },
    {
      "cell_type": "markdown",
      "metadata": {
        "id": "eNBcXWRQt-fG"
      },
      "source": [
        "### Preprocessing"
      ]
    },
    {
      "cell_type": "code",
      "execution_count": null,
      "metadata": {
        "id": "XEtb50xIt-lv"
      },
      "outputs": [],
      "source": [
        "def fill_na(data):\n",
        "  data_cat = data[cat_top].astype(str).fillna('JIN')\n",
        "  data_num = data[num].fillna(0)\n",
        "  data_out = pd.concat([data_num,data_cat], axis = 1)\n",
        "  return data_out"
      ]
    },
    {
      "cell_type": "code",
      "execution_count": null,
      "metadata": {
        "id": "lUQw8uXyt-sE"
      },
      "outputs": [],
      "source": [
        "\n",
        "from sklearn.preprocessing import StandardScaler\n",
        "def stder(X):\n",
        "    cols = X.columns\n",
        "    stder = StandardScaler(copy=True, with_mean = True, with_std = True)\n",
        "    stder.fit(X)\n",
        "    return pd.DataFrame(stder.transform(X), columns = cols)"
      ]
    },
    {
      "cell_type": "code",
      "execution_count": null,
      "metadata": {
        "id": "E3AdpilvEyXv"
      },
      "outputs": [],
      "source": [
        "encoder = OneHotEncoder(sparse_output = False)"
      ]
    },
    {
      "cell_type": "code",
      "execution_count": null,
      "metadata": {
        "id": "X9lh4Ifxusch"
      },
      "outputs": [],
      "source": [
        "def encode_train(df,cat=cat_top):\n",
        "  label = df[['target']]\n",
        "  df = df.drop(columns = ['target'])\n",
        "  #encode label to fit tensorflow\n",
        "  encoded_label = encoder.fit_transform(label)\n",
        "  encoded_label_names = encoder.get_feature_names_out()\n",
        "  label_encoded = pd.DataFrame(encoded_label, columns=encoded_label_names)\n",
        "  label_encoded.index = df.index\n",
        "  #encode categorical data\n",
        "  encoded_columns = encoder.fit_transform(df[cat])\n",
        "  encoded_column_names = encoder.get_feature_names_out()\n",
        "  encoded_df = pd.DataFrame(encoded_columns, columns=encoded_column_names, index = df.index)\n",
        "  feature_encoded = pd.concat([df.drop(columns=cat), encoded_df], axis=1)\n",
        "  return stder(feature_encoded.astype(np.float64)), label_encoded"
      ]
    },
    {
      "cell_type": "code",
      "execution_count": null,
      "metadata": {
        "id": "tKB4Cmmmut1C"
      },
      "outputs": [],
      "source": [
        "def preprocess_train(df):\n",
        "  df_train = fill_na(df)\n",
        "  X_train_encoded, y_train_encoded= encode_train(df_train)\n",
        "  X_train, X_val, y_train, y_val = train_test_split(X_train_encoded, y_train_encoded, test_size=0.01, random_state=42)\n",
        "  return X_train, X_val, y_train, y_val"
      ]
    },
    {
      "cell_type": "code",
      "execution_count": null,
      "metadata": {
        "id": "7nfkS0Hax7IZ"
      },
      "outputs": [],
      "source": [
        "X_train, X_val, y_train, y_val= preprocess_train(train)"
      ]
    },
    {
      "cell_type": "markdown",
      "metadata": {
        "id": "Yrf4_gAxuwzr"
      },
      "source": [
        "### Retrive best hyperparameter"
      ]
    },
    {
      "cell_type": "code",
      "execution_count": null,
      "metadata": {
        "id": "74EMB65Pu0fR"
      },
      "outputs": [],
      "source": [
        "def model(hp):\n",
        "    md = tf.keras.models.Sequential()\n",
        "    md.add(layers.Flatten(input_shape=(1503,))),\n",
        "    md.add(layers.BatchNormalization()),\n",
        "    for i in range(n_layers):\n",
        "      md.add(layers.Dense(hp.Int('input_units_{0}'.format(1+i),min_value = 200,max_value=3000,step = 50),activation=hp.Choice('activation_{0}'.format(i+1),['elu','sigmoid','tanh']))),\n",
        "    md.add(layers.BatchNormalization()),\n",
        "\n",
        "    md.add(layers.Dense(2, activation=hp.Choice('activation_end'.format(i),['sigmoid']))),\n",
        "    lr = hp.Float(\"lr\", min_value=1e-6, max_value=1e-5, sampling=\"log\")\n",
        "\n",
        "    md.compile(optimizer=tf.keras.optimizers.Adam(learning_rate=lr),\n",
        "                  metrics = ['accuracy'],\n",
        "                  loss='mean_squared_error')\n",
        "    return md"
      ]
    },
    {
      "cell_type": "code",
      "execution_count": null,
      "metadata": {
        "id": "1f5fmctbybHS"
      },
      "outputs": [],
      "source": [
        "record_path = '/content/drive/MyDrive/Colab Notebooks/Default prediction'\n",
        "os.makedirs(record_path, exist_ok=True)"
      ]
    },
    {
      "cell_type": "code",
      "execution_count": null,
      "metadata": {
        "id": "csr_FZ_FvBZY"
      },
      "outputs": [],
      "source": [
        "n_layers = 2\n",
        "epks = 15\n",
        "tuner = RandomSearch(\n",
        "    model,\n",
        "    objective = \"val_loss\",\n",
        "    max_trials =200,\n",
        "    executions_per_trial = 3,\n",
        "    directory = record_path,\n",
        "    overwrite = False,\n",
        "    project_name = 'model_{0}l'.format(n_layers)\n",
        "    )"
      ]
    },
    {
      "cell_type": "code",
      "execution_count": null,
      "metadata": {
        "id": "49z8xplSvCza"
      },
      "outputs": [],
      "source": [
        "best_hp = tuner.get_best_hyperparameters()[0].values"
      ]
    },
    {
      "cell_type": "code",
      "execution_count": null,
      "metadata": {
        "colab": {
          "base_uri": "https://localhost:8080/"
        },
        "id": "9BoeyS1Xx7AL",
        "outputId": "174f1159-e0b6-4b80-89a0-594dab9767ac"
      },
      "outputs": [
        {
          "output_type": "execute_result",
          "data": {
            "text/plain": [
              "{'input_units_1': 3400,\n",
              " 'activation_1': 'sigmoid',\n",
              " 'input_units_2': 400,\n",
              " 'activation_2': 'tanh',\n",
              " 'activation_end': 'sigmoid',\n",
              " 'lr': 9.220368359466073e-06}"
            ]
          },
          "metadata": {},
          "execution_count": 14
        }
      ],
      "source": [
        "best_hp"
      ]
    },
    {
      "cell_type": "markdown",
      "metadata": {
        "id": "t7H8x8y8vGRx"
      },
      "source": [
        "### Predict"
      ]
    },
    {
      "cell_type": "code",
      "execution_count": null,
      "metadata": {
        "id": "vSJOjUU8yjD_"
      },
      "outputs": [],
      "source": [
        "def best_model(activation_end,n_layers=n_layers,**dense):\n",
        "    md = tf.keras.models.Sequential()\n",
        "    md.add(layers.Flatten(input_shape=(1503,))),\n",
        "    md.add(layers.BatchNormalization()),\n",
        "    for x in range(n_layers):\n",
        "      md.add(layers.Dense(dense['input_units_{0}'.format(x+1)], activation=dense['activation_{0}'.format(x+1)]))\n",
        "      md.add(layers.BatchNormalization())\n",
        "    md.add(layers.Dense(2, activation=activation_end))\n",
        "    md.compile(optimizer=tf.keras.optimizers.Adam(learning_rate=3e-06),\n",
        "                  loss='mean_squared_error',metrics = ['accuracy'])\n",
        "    return md"
      ]
    },
    {
      "cell_type": "code",
      "execution_count": null,
      "metadata": {
        "id": "Weolyp7_ympZ",
        "colab": {
          "base_uri": "https://localhost:8080/"
        },
        "outputId": "dcda0c58-3a9b-48a0-e2c5-aeab56cffe01"
      },
      "outputs": [
        {
          "output_type": "stream",
          "name": "stdout",
          "text": [
            "Epoch 1/20\n",
            "2272/2272 [==============================] - 19s 6ms/step - loss: 0.1091 - accuracy: 0.8638 - val_loss: 0.0875 - val_accuracy: 0.8902\n",
            "Epoch 2/20\n",
            "2272/2272 [==============================] - 14s 6ms/step - loss: 0.0926 - accuracy: 0.8818 - val_loss: 0.0825 - val_accuracy: 0.8930\n",
            "Epoch 3/20\n",
            "2272/2272 [==============================] - 14s 6ms/step - loss: 0.0887 - accuracy: 0.8853 - val_loss: 0.0806 - val_accuracy: 0.8946\n",
            "Epoch 4/20\n",
            "2272/2272 [==============================] - 15s 6ms/step - loss: 0.0861 - accuracy: 0.8883 - val_loss: 0.0788 - val_accuracy: 0.8972\n",
            "Epoch 5/20\n",
            "2272/2272 [==============================] - 14s 6ms/step - loss: 0.0843 - accuracy: 0.8900 - val_loss: 0.0779 - val_accuracy: 0.8967\n",
            "Epoch 6/20\n",
            "2272/2272 [==============================] - 14s 6ms/step - loss: 0.0827 - accuracy: 0.8917 - val_loss: 0.0775 - val_accuracy: 0.8959\n",
            "Epoch 7/20\n",
            "2272/2272 [==============================] - 14s 6ms/step - loss: 0.0815 - accuracy: 0.8935 - val_loss: 0.0767 - val_accuracy: 0.8985\n",
            "Epoch 8/20\n",
            "2272/2272 [==============================] - 14s 6ms/step - loss: 0.0802 - accuracy: 0.8946 - val_loss: 0.0757 - val_accuracy: 0.8983\n",
            "Epoch 9/20\n",
            "2272/2272 [==============================] - 14s 6ms/step - loss: 0.0790 - accuracy: 0.8959 - val_loss: 0.0767 - val_accuracy: 0.8974\n",
            "Epoch 10/20\n",
            "2272/2272 [==============================] - 14s 6ms/step - loss: 0.0780 - accuracy: 0.8972 - val_loss: 0.0756 - val_accuracy: 0.8976\n",
            "Epoch 11/20\n",
            "2272/2272 [==============================] - 14s 6ms/step - loss: 0.0769 - accuracy: 0.8985 - val_loss: 0.0754 - val_accuracy: 0.8991\n",
            "Epoch 12/20\n",
            "2272/2272 [==============================] - 14s 6ms/step - loss: 0.0763 - accuracy: 0.8991 - val_loss: 0.0751 - val_accuracy: 0.8980\n",
            "Epoch 13/20\n",
            "2272/2272 [==============================] - 14s 6ms/step - loss: 0.0754 - accuracy: 0.9005 - val_loss: 0.0742 - val_accuracy: 0.8969\n",
            "Epoch 14/20\n",
            "2272/2272 [==============================] - 14s 6ms/step - loss: 0.0746 - accuracy: 0.9012 - val_loss: 0.0738 - val_accuracy: 0.9011\n",
            "Epoch 15/20\n",
            "2272/2272 [==============================] - 14s 6ms/step - loss: 0.0740 - accuracy: 0.9024 - val_loss: 0.0741 - val_accuracy: 0.9004\n",
            "Epoch 16/20\n",
            "2272/2272 [==============================] - 14s 6ms/step - loss: 0.0733 - accuracy: 0.9031 - val_loss: 0.0746 - val_accuracy: 0.9004\n",
            "Epoch 17/20\n",
            "2272/2272 [==============================] - 14s 6ms/step - loss: 0.0724 - accuracy: 0.9045 - val_loss: 0.0735 - val_accuracy: 0.9000\n",
            "Epoch 18/20\n",
            "2272/2272 [==============================] - 14s 6ms/step - loss: 0.0717 - accuracy: 0.9053 - val_loss: 0.0732 - val_accuracy: 0.9000\n",
            "Epoch 19/20\n",
            "2272/2272 [==============================] - 14s 6ms/step - loss: 0.0710 - accuracy: 0.9062 - val_loss: 0.0731 - val_accuracy: 0.9004\n",
            "Epoch 20/20\n",
            "2272/2272 [==============================] - 14s 6ms/step - loss: 0.0705 - accuracy: 0.9071 - val_loss: 0.0732 - val_accuracy: 0.8993\n"
          ]
        },
        {
          "output_type": "execute_result",
          "data": {
            "text/plain": [
              "<keras.callbacks.History at 0x79271375d450>"
            ]
          },
          "metadata": {},
          "execution_count": 16
        }
      ],
      "source": [
        "bestModel = best_model(**best_hp)\n",
        "bestModel.fit(X_train,y_train,\n",
        "           epochs = 20,\n",
        "           batch_size=200,\n",
        "           shuffle=True,\n",
        "           validation_data = (X_val,y_val))"
      ]
    },
    {
      "cell_type": "code",
      "source": [
        "def encode_test(df,cat=cat_top):\n",
        "  encoded_columns = encoder.transform(df[cat])\n",
        "  encoded_column_names = encoder.get_feature_names_out()\n",
        "  encoded_df = pd.DataFrame(encoded_columns, columns=encoded_column_names, index = df.index)\n",
        "  feature_encoded = pd.concat([df.drop(columns=cat),encoded_df], axis=1)\n",
        "  return stder(feature_encoded.astype(np.float64))"
      ],
      "metadata": {
        "id": "ldg_5W6WsTpR"
      },
      "execution_count": null,
      "outputs": []
    },
    {
      "cell_type": "code",
      "execution_count": null,
      "metadata": {
        "id": "ZRFdnXsUC897"
      },
      "outputs": [],
      "source": [
        "def preprocess_test(df):\n",
        "  df = fill_na(df)\n",
        "  X_test_encoded = encode_test(df)\n",
        "  return X_test_encoded"
      ]
    },
    {
      "cell_type": "code",
      "execution_count": null,
      "metadata": {
        "colab": {
          "base_uri": "https://localhost:8080/"
        },
        "id": "AYBj6T3ZzVJi",
        "outputId": "865a1062-d651-4c80-d858-38cf8dc41b4f"
      },
      "outputs": [
        {
          "output_type": "stream",
          "name": "stdout",
          "text": [
            "1250/1250 [==============================] - 2s 2ms/step\n",
            "1250/1250 [==============================] - 2s 2ms/step\n",
            "1250/1250 [==============================] - 2s 2ms/step\n",
            "1250/1250 [==============================] - 2s 2ms/step\n",
            "1250/1250 [==============================] - 2s 2ms/step\n",
            "1250/1250 [==============================] - 2s 1ms/step\n",
            "1250/1250 [==============================] - 2s 2ms/step\n",
            "1250/1250 [==============================] - 2s 2ms/step\n",
            "1250/1250 [==============================] - 2s 2ms/step\n",
            "1250/1250 [==============================] - 2s 2ms/step\n",
            "1250/1250 [==============================] - 2s 2ms/step\n",
            "1250/1250 [==============================] - 2s 2ms/step\n",
            "1250/1250 [==============================] - 2s 2ms/step\n",
            "1250/1250 [==============================] - 2s 1ms/step\n",
            "1250/1250 [==============================] - 2s 2ms/step\n",
            "1250/1250 [==============================] - 2s 2ms/step\n",
            "1250/1250 [==============================] - 2s 2ms/step\n",
            "1250/1250 [==============================] - 2s 1ms/step\n",
            "1250/1250 [==============================] - 2s 2ms/step\n",
            "1250/1250 [==============================] - 2s 2ms/step\n",
            "1250/1250 [==============================] - 2s 2ms/step\n",
            "1250/1250 [==============================] - 2s 2ms/step\n",
            "1250/1250 [==============================] - 2s 2ms/step\n",
            "145/145 [==============================] - 0s 2ms/step\n"
          ]
        }
      ],
      "source": [
        "pred = []\n",
        "num.remove('target')\n",
        "test = pd.read_csv('test.csv',chunksize = 40000)\n",
        "for x in test:\n",
        "  x.set_index('customer_ID', inplace = True)\n",
        "  indx = x.index\n",
        "  X_test = preprocess_test(x)\n",
        "  prediction = pd.DataFrame(bestModel.predict(X_test)[:,1], columns=['prediction'])\n",
        "  prediction.index = indx\n",
        "  pred.append(prediction)\n",
        "output = pd.concat(pred, axis=0)\n",
        "output.to_csv('submission.csv')"
      ]
    },
    {
      "cell_type": "code",
      "source": [
        "!kaggle competitions submit -c amex-default-prediction -f submission.csv -m \"Message\""
      ],
      "metadata": {
        "colab": {
          "base_uri": "https://localhost:8080/"
        },
        "id": "8wLkFO2-lDda",
        "outputId": "9aa074de-46b5-48a4-c27b-8a2e3e884f1f"
      },
      "execution_count": null,
      "outputs": [
        {
          "output_type": "stream",
          "name": "stdout",
          "text": [
            "Warning: Your Kaggle API key is readable by other users on this system! To fix this, you can run 'chmod 600 /root/.kaggle/kaggle.json'\n",
            "100% 67.1M/67.1M [00:02<00:00, 25.2MB/s]\n",
            "Successfully submitted to American Express - Default Prediction"
          ]
        }
      ]
    },
    {
      "cell_type": "code",
      "source": [],
      "metadata": {
        "id": "6wyBiyhBnvCW"
      },
      "execution_count": null,
      "outputs": []
    }
  ],
  "metadata": {
    "colab": {
      "machine_shape": "hm",
      "provenance": [],
      "gpuType": "T4",
      "authorship_tag": "ABX9TyMh8H+0PUL+hFvBycS0IAms",
      "include_colab_link": true
    },
    "kernelspec": {
      "display_name": "Python 3",
      "name": "python3"
    },
    "language_info": {
      "name": "python"
    },
    "accelerator": "GPU"
  },
  "nbformat": 4,
  "nbformat_minor": 0
}
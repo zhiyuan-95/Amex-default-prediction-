{
  "nbformat": 4,
  "nbformat_minor": 0,
  "metadata": {
    "colab": {
      "provenance": [],
      "gpuType": "T4",
      "machine_shape": "hm",
      "mount_file_id": "11EmIVUYv5P-rKCOJccvSkIKpJUiJy83Z",
      "authorship_tag": "ABX9TyMpx3rvXyZpL5g25MH1DbM4",
      "include_colab_link": true
    },
    "kernelspec": {
      "name": "python3",
      "display_name": "Python 3"
    },
    "language_info": {
      "name": "python"
    }
  },
  "cells": [
    {
      "cell_type": "markdown",
      "metadata": {
        "id": "view-in-github",
        "colab_type": "text"
      },
      "source": [
        "<a href=\"https://colab.research.google.com/github/zhiyuan-95/Amex-default-prediction-/blob/main/model.ipynb\" target=\"_parent\"><img src=\"https://colab.research.google.com/assets/colab-badge.svg\" alt=\"Open In Colab\"/></a>"
      ]
    },
    {
      "cell_type": "code",
      "source": [
        "!gcloud auth login"
      ],
      "metadata": {
        "colab": {
          "base_uri": "https://localhost:8080/"
        },
        "id": "Rbwb5Cj0aJmO",
        "outputId": "fa29d5bf-a306-4201-bcef-d66ce2d76e2e"
      },
      "execution_count": null,
      "outputs": [
        {
          "output_type": "stream",
          "name": "stdout",
          "text": [
            "Go to the following link in your browser:\n",
            "\n",
            "    https://accounts.google.com/o/oauth2/auth?response_type=code&client_id=32555940559.apps.googleusercontent.com&redirect_uri=https%3A%2F%2Fsdk.cloud.google.com%2Fauthcode.html&scope=openid+https%3A%2F%2Fwww.googleapis.com%2Fauth%2Fuserinfo.email+https%3A%2F%2Fwww.googleapis.com%2Fauth%2Fcloud-platform+https%3A%2F%2Fwww.googleapis.com%2Fauth%2Fappengine.admin+https%3A%2F%2Fwww.googleapis.com%2Fauth%2Fsqlservice.login+https%3A%2F%2Fwww.googleapis.com%2Fauth%2Fcompute+https%3A%2F%2Fwww.googleapis.com%2Fauth%2Faccounts.reauth&state=JcAYmdwgUsuC7JZ7ELB69XlmZEDZ4a&prompt=consent&access_type=offline&code_challenge=KHtGu9J_7x3bm_iHrgazPLULU2C6_IVkpV7fS_rCDrw&code_challenge_method=S256\n",
            "\n",
            "Enter authorization code: 4/0AZEOvhXTcPGwEA1z7jG2KK9WQeWldoH70fGM0FMQUT1EszzBlSKnp4PdEDyRjBN08_y30g\n",
            "\n",
            "You are now logged in as [zhiyuan.jin1201@gmail.com].\n",
            "Your current project is [None].  You can change this setting by running:\n",
            "  $ gcloud config set project PROJECT_ID\n"
          ]
        }
      ]
    },
    {
      "cell_type": "code",
      "source": [],
      "metadata": {
        "id": "l0Xikq_VNH2t"
      },
      "execution_count": null,
      "outputs": []
    },
    {
      "cell_type": "code",
      "source": [
        "!pip install keras-tuner -q"
      ],
      "metadata": {
        "colab": {
          "base_uri": "https://localhost:8080/"
        },
        "id": "Gp0_EvAwt3BI",
        "outputId": "251f21fb-86ac-4682-856c-7e88b25c1372"
      },
      "execution_count": null,
      "outputs": [
        {
          "output_type": "stream",
          "name": "stdout",
          "text": [
            "\u001b[?25l     \u001b[90m━━━━━━━━━━━━━━━━━━━━━━━━━━━━━━━━━━━━━━━━\u001b[0m \u001b[32m0.0/176.1 kB\u001b[0m \u001b[31m?\u001b[0m eta \u001b[36m-:--:--\u001b[0m\r\u001b[2K     \u001b[91m━━━━━━━━━━━━━━━━━━━━━━━━━━━━━━━━━━━━━━\u001b[0m\u001b[91m╸\u001b[0m \u001b[32m174.1/176.1 kB\u001b[0m \u001b[31m5.7 MB/s\u001b[0m eta \u001b[36m0:00:01\u001b[0m\r\u001b[2K     \u001b[90m━━━━━━━━━━━━━━━━━━━━━━━━━━━━━━━━━━━━━━━\u001b[0m \u001b[32m176.1/176.1 kB\u001b[0m \u001b[31m4.3 MB/s\u001b[0m eta \u001b[36m0:00:00\u001b[0m\n",
            "\u001b[?25h"
          ]
        }
      ]
    },
    {
      "cell_type": "code",
      "execution_count": null,
      "metadata": {
        "colab": {
          "base_uri": "https://localhost:8080/"
        },
        "id": "FCF_CQCYYGa1",
        "outputId": "bde0173a-3a7e-40aa-b7f2-8c340559cd51"
      },
      "outputs": [
        {
          "output_type": "stream",
          "name": "stdout",
          "text": [
            "Copying gs://aedp/expanded_data/sample_train/part-00000...\n",
            "/ [0 files][    0.0 B/  4.8 GiB]                                                \r==> NOTE: You are downloading one or more large file(s), which would\n",
            "run significantly faster if you enabled sliced object downloads. This\n",
            "feature is enabled by default but requires that compiled crcmod be\n",
            "installed (see \"gsutil help crcmod\").\n",
            "\n",
            "- [1 files][  4.8 GiB/  4.8 GiB]   26.0 MiB/s                                   \n",
            "Operation completed over 1 objects/4.8 GiB.                                      \n",
            "Copying gs://aedp/expanded_data/sample_test/part-00000...\n",
            "==> NOTE: You are downloading one or more large file(s), which would\n",
            "run significantly faster if you enabled sliced object downloads. This\n",
            "feature is enabled by default but requires that compiled crcmod be\n",
            "installed (see \"gsutil help crcmod\").\n",
            "\n",
            "|\n",
            "Operation completed over 1 objects/2.4 GiB.                                      \n"
          ]
        }
      ],
      "source": [
        "!gsutil cp gs://aedp/expanded_data/sample_train/part-00000 /content/sample_train.csv\n",
        "!gsutil cp gs://aedp/expanded_data/sample_test/part-00000 /content/sample_test.csv"
      ]
    },
    {
      "cell_type": "code",
      "source": [
        "import csv\n",
        "import pandas as pd\n",
        "import numpy as np\n",
        "import os\n",
        "import sys\n",
        "import tensorflow as tf\n",
        "import sklearn\n",
        "from sklearn.model_selection import train_test_split\n",
        "from sklearn.preprocessing import OneHotEncoder\n",
        "from tensorflow import keras\n",
        "from kerastuner.tuners import RandomSearch"
      ],
      "metadata": {
        "id": "FSn_ujXHaaUN",
        "colab": {
          "base_uri": "https://localhost:8080/"
        },
        "outputId": "5121abd4-427b-4a29-d37c-ff661686a4ed"
      },
      "execution_count": null,
      "outputs": [
        {
          "output_type": "stream",
          "name": "stderr",
          "text": [
            "<ipython-input-4-89b5b0e1f941>:11: DeprecationWarning: `import kerastuner` is deprecated, please use `import keras_tuner`.\n",
            "  from kerastuner.tuners import RandomSearch\n"
          ]
        }
      ]
    },
    {
      "cell_type": "code",
      "source": [
        "# Evaluation Method\n",
        "def top_four_percent_captured(y_true: pd.DataFrame, y_pred: pd.DataFrame) -> float:\n",
        "    df = (pd.concat([y_true, y_pred], axis='columns')\n",
        "          .sort_values('prediction', ascending=False))\n",
        "    df['weight'] = df['target'].apply(lambda x: 20 if x==0 else 1)\n",
        "    four_pct_cutoff = int(0.04 * df['weight'].sum())\n",
        "    df['weight_cumsum'] = df['weight'].cumsum()\n",
        "    df_cutoff = df.loc[df['weight_cumsum'] <= four_pct_cutoff]\n",
        "    return (df_cutoff['target'] == 1).sum() / (df['target'] == 1).sum()\n",
        "def weighted_gini(y_true: pd.DataFrame, y_pred: pd.DataFrame) -> float:\n",
        "    df = (pd.concat([y_true, y_pred], axis='columns')\n",
        "          .sort_values('prediction', ascending=False))\n",
        "    df['weight'] = df['target'].apply(lambda x: 20 if x==0 else 1)\n",
        "    df['random'] = (df['weight'] / df['weight'].sum()).cumsum()\n",
        "    total_pos = (df['target'] * df['weight']).sum()\n",
        "    df['cum_pos_found'] = (df['target'] * df['weight']).cumsum()\n",
        "    df['lorentz'] = df['cum_pos_found'] / total_pos\n",
        "    df['gini'] = (df['lorentz'] - df['random']) * df['weight']\n",
        "    return df['gini'].sum()\n",
        "def normalized_weighted_gini(y_true: pd.DataFrame, y_pred: pd.DataFrame) -> float:\n",
        "    y_true_pred = y_true.rename(columns={'target': 'prediction'})\n",
        "    return weighted_gini(y_true, y_pred) / weighted_gini(y_true, y_true_pred)\n",
        "def amex_metric(y_true: pd.DataFrame, y_pred: pd.DataFrame) -> float:\n",
        "    g = normalized_weighted_gini(y_true, y_pred)\n",
        "    d = top_four_percent_captured(y_true, y_pred)\n",
        "    return 0.5 * (g + d)"
      ],
      "metadata": {
        "id": "_PsVzEVFnkv5"
      },
      "execution_count": null,
      "outputs": []
    },
    {
      "cell_type": "code",
      "source": [
        "sample_train = 'sample_train.csv'\n",
        "sample_test = 'sample_test.csv'\n",
        "df_train = pd.read_csv(sample_train)\n",
        "df_test = pd.read_csv(sample_test)\n",
        "df_train.set_index('customer_ID', inplace = True)\n",
        "df_test.set_index('customer_ID', inplace = True)"
      ],
      "metadata": {
        "id": "vjCfoos6apoF"
      },
      "execution_count": null,
      "outputs": []
    },
    {
      "cell_type": "code",
      "source": [
        "def balanced_data(dataframe):\n",
        "  target_1 = dataframe.loc[dataframe.target==1]\n",
        "  target_0 = dataframe.loc[dataframe.target==0][:target_1.shape[0]]\n",
        "  combine = pd.concat([target_1,target_0], axis = 0)\n",
        "  balanced_dataframe = combine.iloc[np.random.permutation(combine.shape[0])]\n",
        "  return balanced_dataframe"
      ],
      "metadata": {
        "id": "i1focYZmatHW"
      },
      "execution_count": null,
      "outputs": []
    },
    {
      "cell_type": "code",
      "source": [
        "cats = ['B_30', 'B_38', 'D_114', 'D_116', 'D_117', 'D_120', 'D_126', 'D_63', 'D_64', 'D_66', 'D_68']\n",
        "cat_top = []\n",
        "for x in cats:\n",
        "  cat_top.append(x+'_top')\n",
        "num = list(df_train.columns)\n",
        "for x in cat_top:\n",
        "  num.remove(x)\n",
        "def fill_na(data):\n",
        "  data_cat = data[cat_top].astype(str).fillna('JIN')\n",
        "  data_num = data[num].fillna(0)\n",
        "  data_out = pd.concat([data_num,data_cat], axis = 1)\n",
        "  return data_out"
      ],
      "metadata": {
        "id": "mwjKIpaSmPtL"
      },
      "execution_count": null,
      "outputs": []
    },
    {
      "cell_type": "code",
      "source": [
        "#encode label to fit tensorflow\n",
        "from sklearn.preprocessing import OneHotEncoder\n",
        "def encoding(df,cat=cat_top):\n",
        "  label = df[['target']]\n",
        "  df = df.drop(columns = ['target'])\n",
        "  encoder = OneHotEncoder(sparse_output = False)\n",
        "  #encode label to fit tensorflow\n",
        "  encoded_label = encoder.fit_transform(label)\n",
        "  encoded_label_names = encoder.get_feature_names_out()\n",
        "  label_encoded = pd.DataFrame(encoded_label, columns=encoded_label_names)\n",
        "  label_encoded.index = df.index\n",
        "  #encode categorical data\n",
        "  encoded_columns = encoder.fit_transform(df[cat])\n",
        "  encoded_column_names = encoder.get_feature_names_out()\n",
        "  encoded_df = pd.DataFrame(encoded_columns, columns=encoded_column_names, index = df.index)\n",
        "  feature_encoded = pd.concat([df.drop(columns=cat), encoded_df], axis=1)\n",
        "  return stder(feature_encoded.astype(np.float64)), label_encoded"
      ],
      "metadata": {
        "id": "ejYefFxhbSMV"
      },
      "execution_count": null,
      "outputs": []
    },
    {
      "cell_type": "code",
      "source": [
        "from sklearn.preprocessing import StandardScaler\n",
        "def stder(X):\n",
        "    cols = X.columns\n",
        "    stder = StandardScaler(copy=True, with_mean = True, with_std = True)\n",
        "    stder.fit(X)\n",
        "    return pd.DataFrame(stder.transform(X), columns = cols)"
      ],
      "metadata": {
        "id": "VpTNm3wxs0vW"
      },
      "execution_count": null,
      "outputs": []
    },
    {
      "cell_type": "markdown",
      "source": [
        "### Prepare training & test set"
      ],
      "metadata": {
        "id": "u56wQ3YHp4LS"
      }
    },
    {
      "cell_type": "code",
      "source": [
        "# train\n",
        "df_train = fill_na(df_train)\n",
        "X_train_balanced = balanced_data(df_train)\n",
        "X_train_encoded, y_train_encoded = encoding(X_train_balanced)\n",
        "# Split data into train and validation set\n",
        "X_train, X_val, y_train, y_val = train_test_split(X_train_encoded, y_train_encoded, test_size=0.3, random_state=42)"
      ],
      "metadata": {
        "id": "ZXMveUSudaga"
      },
      "execution_count": null,
      "outputs": []
    },
    {
      "cell_type": "code",
      "source": [
        "# test\n",
        "X_test = fill_na(df_test)\n",
        "X_test,y_test = encoding(X_test)"
      ],
      "metadata": {
        "id": "9aXyXWDDrUAS"
      },
      "execution_count": null,
      "outputs": []
    },
    {
      "cell_type": "markdown",
      "source": [
        "### hyperparameter optimization"
      ],
      "metadata": {
        "id": "e_kqYDg1qKZp"
      }
    },
    {
      "cell_type": "code",
      "source": [
        "import time\n",
        "from tensorflow import keras\n",
        "from keras import layers\n",
        "import os\n",
        "record_path = '/content/drive/MyDrive/Colab Notebooks/Default prediction'\n",
        "os.makedirs(record_path, exist_ok=True)\n",
        "dir = time.time()"
      ],
      "metadata": {
        "id": "wb3GoNupvu8y"
      },
      "execution_count": null,
      "outputs": []
    },
    {
      "cell_type": "code",
      "source": [
        "#X,y,X_val,y_val,d1,d2,lr = 1e-6, epks =5, loss_func='mean_squared_error',ac1 = 'elu', ac2 = 'sigmoid', bs =10\n",
        "def model(hp):\n",
        "    md = tf.keras.models.Sequential()\n",
        "    md.add(layers.Flatten(input_shape=(1503,))),\n",
        "    md.add(layers.BatchNormalization()),\n",
        "    for i in range(n_layers):\n",
        "      md.add(layers.Dense(hp.Int('input_units_{0}'.format(1+i),min_value = 200,max_value=3000,step = 50),activation=hp.Choice('activation_{0}'.format(i+1),['elu','sigmoid','tanh']))),\n",
        "    md.add(layers.BatchNormalization()),\n",
        "\n",
        "    md.add(layers.Dense(2, activation=hp.Choice('activation_end'.format(i),['sigmoid']))),\n",
        "    lr = hp.Float(\"lr\", min_value=1e-6, max_value=1e-5, sampling=\"log\")\n",
        "\n",
        "    md.compile(optimizer=tf.keras.optimizers.Adam(learning_rate=lr),\n",
        "                  metrics = ['accuracy'],\n",
        "                  loss='mean_squared_error')\n",
        "    return md\n"
      ],
      "metadata": {
        "id": "jDC-3XPgqKlS"
      },
      "execution_count": null,
      "outputs": []
    },
    {
      "cell_type": "code",
      "source": [
        "n_layers = 4\n",
        "epks = 15\n",
        "tuner = RandomSearch(\n",
        "    model,\n",
        "    objective = \"val_loss\",\n",
        "    max_trials =200,\n",
        "    executions_per_trial = 3,\n",
        "    directory = record_path,\n",
        "    overwrite = False,\n",
        "    project_name = 'model_{0}l'.format(n_layers)\n",
        "    )"
      ],
      "metadata": {
        "id": "l4Wq_q_KYuWY"
      },
      "execution_count": null,
      "outputs": []
    },
    {
      "cell_type": "code",
      "source": [
        "tuner.search(x=X_train,\n",
        "             y=y_train,\n",
        "             epochs=epks,\n",
        "             batch_size=200,\n",
        "             validation_data=(X_val,y_val))"
      ],
      "metadata": {
        "id": "mEma95qh6sQ1"
      },
      "execution_count": null,
      "outputs": []
    },
    {
      "cell_type": "code",
      "source": [
        "#tuner.results_summary()"
      ],
      "metadata": {
        "id": "_bj1Uyt2Ubpi"
      },
      "execution_count": null,
      "outputs": []
    },
    {
      "cell_type": "code",
      "source": [
        "#tuner.get_best_models()[0].summary()"
      ],
      "metadata": {
        "id": "chsXs0OOUJTl"
      },
      "execution_count": null,
      "outputs": []
    },
    {
      "cell_type": "code",
      "source": [
        "best_hp = tuner.get_best_hyperparameters()[0].values"
      ],
      "metadata": {
        "id": "PzckQ4viU0je"
      },
      "execution_count": null,
      "outputs": []
    },
    {
      "cell_type": "code",
      "source": [
        "best_hp"
      ],
      "metadata": {
        "colab": {
          "base_uri": "https://localhost:8080/"
        },
        "id": "RPf6es9eu0Ns",
        "outputId": "c9fc2236-2335-4d53-c445-4713915422f3"
      },
      "execution_count": null,
      "outputs": [
        {
          "output_type": "execute_result",
          "data": {
            "text/plain": [
              "{'input_units_1': 3500,\n",
              " 'activation_1': 'elu',\n",
              " 'input_units_2': 3100,\n",
              " 'activation_2': 'sigmoid',\n",
              " 'input_units_3': 200,\n",
              " 'activation_3': 'tanh',\n",
              " 'input_units_4': 2850,\n",
              " 'activation_4': 'sigmoid',\n",
              " 'activation_end': 'sigmoid',\n",
              " 'lr': 3.4215203658712084e-06}"
            ]
          },
          "metadata": {},
          "execution_count": 10
        }
      ]
    },
    {
      "cell_type": "markdown",
      "source": [
        "### best model"
      ],
      "metadata": {
        "id": "F77VLem-nvqd"
      }
    },
    {
      "cell_type": "code",
      "source": [
        "#input_units_1,activation_1,input_units_2,activation2,input_units_3,activation_3"
      ],
      "metadata": {
        "id": "BpKY8uPRbVL9"
      },
      "execution_count": null,
      "outputs": []
    },
    {
      "cell_type": "code",
      "source": [
        "def best_model(lr,activation_end,n_layers=4,**dense):\n",
        "    md = tf.keras.models.Sequential()\n",
        "    md.add(layers.Flatten(input_shape=(1503,))),\n",
        "    md.add(layers.BatchNormalization()),\n",
        "    for x in range(n_layers):\n",
        "      md.add(layers.Dense(dense['input_units_{0}'.format(x+1)], activation=dense['activation_{0}'.format(x+1)]))\n",
        "      md.add(layers.BatchNormalization())\n",
        "    md.add(layers.Dense(2, activation=activation_end))\n",
        "    md.compile(optimizer=tf.keras.optimizers.Adam(learning_rate=1.5e-5),\n",
        "                  loss='mean_squared_error',metrics = ['accuracy'])\n",
        "    md.fit(X_train,y_train,\n",
        "           epochs = epks,\n",
        "           batch_size=200,\n",
        "           shuffle=True,\n",
        "           validation_data = (X_val,y_val))\n",
        "    return md"
      ],
      "metadata": {
        "id": "NBsczMblgny-"
      },
      "execution_count": null,
      "outputs": []
    },
    {
      "cell_type": "code",
      "source": [
        "def performance():\n",
        "  model_trained = best_model(**best_hp)\n",
        "  prediction = model_trained.predict(X_test)[:,1]\n",
        "  target_test = y_test[['target_1']].rename(columns={'target_1': 'target'})\n",
        "  prediction = pd.DataFrame(prediction,columns = ['prediction'])\n",
        "  prediction.index = target_test.index\n",
        "  return (amex_metric(target_test,prediction))"
      ],
      "metadata": {
        "id": "qkMqc-TJgRaA"
      },
      "execution_count": null,
      "outputs": []
    },
    {
      "cell_type": "code",
      "source": [
        "performance()"
      ],
      "metadata": {
        "colab": {
          "base_uri": "https://localhost:8080/"
        },
        "id": "3KvibQnu7r-v",
        "outputId": "4405bae9-3354-4037-d672-cabaa8e4c553"
      },
      "execution_count": null,
      "outputs": [
        {
          "output_type": "stream",
          "name": "stdout",
          "text": [
            "Epoch 1/15\n",
            "414/414 [==============================] - 8s 10ms/step - loss: 0.0958 - accuracy: 0.8751 - val_loss: 0.0870 - val_accuracy: 0.8845\n",
            "Epoch 2/15\n",
            "414/414 [==============================] - 3s 8ms/step - loss: 0.0832 - accuracy: 0.8906 - val_loss: 0.0863 - val_accuracy: 0.8843\n",
            "Epoch 3/15\n",
            "414/414 [==============================] - 3s 8ms/step - loss: 0.0770 - accuracy: 0.8996 - val_loss: 0.0859 - val_accuracy: 0.8851\n",
            "Epoch 4/15\n",
            "414/414 [==============================] - 3s 8ms/step - loss: 0.0717 - accuracy: 0.9079 - val_loss: 0.0864 - val_accuracy: 0.8849\n",
            "Epoch 5/15\n",
            "414/414 [==============================] - 3s 8ms/step - loss: 0.0672 - accuracy: 0.9165 - val_loss: 0.0860 - val_accuracy: 0.8843\n",
            "Epoch 6/15\n",
            "414/414 [==============================] - 3s 8ms/step - loss: 0.0633 - accuracy: 0.9227 - val_loss: 0.0847 - val_accuracy: 0.8869\n",
            "Epoch 7/15\n",
            "414/414 [==============================] - 3s 8ms/step - loss: 0.0594 - accuracy: 0.9293 - val_loss: 0.0861 - val_accuracy: 0.8844\n",
            "Epoch 8/15\n",
            "414/414 [==============================] - 3s 8ms/step - loss: 0.0558 - accuracy: 0.9357 - val_loss: 0.0847 - val_accuracy: 0.8857\n",
            "Epoch 9/15\n",
            "414/414 [==============================] - 3s 8ms/step - loss: 0.0519 - accuracy: 0.9420 - val_loss: 0.0863 - val_accuracy: 0.8833\n",
            "Epoch 10/15\n",
            "414/414 [==============================] - 3s 8ms/step - loss: 0.0488 - accuracy: 0.9466 - val_loss: 0.0859 - val_accuracy: 0.8860\n",
            "Epoch 11/15\n",
            "414/414 [==============================] - 3s 8ms/step - loss: 0.0453 - accuracy: 0.9525 - val_loss: 0.0865 - val_accuracy: 0.8828\n",
            "Epoch 12/15\n",
            "414/414 [==============================] - 3s 8ms/step - loss: 0.0421 - accuracy: 0.9582 - val_loss: 0.0877 - val_accuracy: 0.8826\n",
            "Epoch 13/15\n",
            "414/414 [==============================] - 3s 8ms/step - loss: 0.0388 - accuracy: 0.9629 - val_loss: 0.0866 - val_accuracy: 0.8831\n",
            "Epoch 14/15\n",
            "414/414 [==============================] - 3s 8ms/step - loss: 0.0357 - accuracy: 0.9668 - val_loss: 0.0873 - val_accuracy: 0.8833\n",
            "Epoch 15/15\n",
            "414/414 [==============================] - 3s 8ms/step - loss: 0.0327 - accuracy: 0.9713 - val_loss: 0.0887 - val_accuracy: 0.8810\n",
            "1444/1444 [==============================] - 3s 2ms/step\n"
          ]
        },
        {
          "output_type": "execute_result",
          "data": {
            "text/plain": [
              "0.713730489137953"
            ]
          },
          "metadata": {},
          "execution_count": 31
        }
      ]
    },
    {
      "cell_type": "markdown",
      "source": [
        "## Prediction"
      ],
      "metadata": {
        "id": "JVq9R0WceNMe"
      }
    },
    {
      "cell_type": "code",
      "source": [
        "!gsutil cp gs://aedp/expanded_data/test_expansion/part-00000 /content/test.csv"
      ],
      "metadata": {
        "id": "rvfK6FLW1Tid"
      },
      "execution_count": null,
      "outputs": []
    },
    {
      "cell_type": "code",
      "source": [
        "test = 'test.csv'\n",
        "df_test = pd.read_csv(test)\n",
        "df_test.set_index('customer_ID', inplace = True)"
      ],
      "metadata": {
        "id": "Ht_bvKcRqwbC"
      },
      "execution_count": null,
      "outputs": []
    },
    {
      "cell_type": "code",
      "source": [
        "def test_encoding(df,cat=cat_top):\n",
        "  encoder = OneHotEncoder(sparse_output = False)\n",
        "  encoded_columns = encoder.fit_transform(df[cat])\n",
        "  encoded_column_names = encoder.get_feature_names_out()\n",
        "  encoded_df = pd.DataFrame(encoded_columns, columns=encoded_column_names, index = df.index)\n",
        "  feature_encoded = pd.concat([df.drop(columns=cat), encoded_df], axis=1)\n",
        "  return stder(feature_encoded.astype(np.float64))"
      ],
      "metadata": {
        "id": "iQLw1ODrkBLr"
      },
      "execution_count": null,
      "outputs": []
    },
    {
      "cell_type": "code",
      "source": [
        "df_test = fill_na(df_test)\n",
        "test_set = encoding(X_test)"
      ],
      "metadata": {
        "id": "D2oo-MV8j8Ar"
      },
      "execution_count": null,
      "outputs": []
    },
    {
      "cell_type": "code",
      "source": [
        "model_trained = best_model(**best_hp)\n",
        "prediction = model_trained.predict(X_test)[:,1]\n",
        "target_test = y_test[['target_1']].rename(columns={'target_1': 'target'})\n",
        "prediction = pd.DataFrame(prediction,columns = ['prediction'])\n",
        "prediction.index = target_test.index"
      ],
      "metadata": {
        "id": "8QaZWCTazgbl"
      },
      "execution_count": null,
      "outputs": []
    },
    {
      "cell_type": "code",
      "source": [],
      "metadata": {
        "id": "ow2dOrx51YAA"
      },
      "execution_count": null,
      "outputs": []
    }
  ]
}